{
  "nbformat": 4,
  "nbformat_minor": 0,
  "metadata": {
    "coursera": {
      "course_slug": "neural-networks-deep-learning",
      "graded_item_id": "XaIWT",
      "launcher_item_id": "zAgPl"
    },
    "kernelspec": {
      "display_name": "Python 3",
      "language": "python",
      "name": "python3"
    },
    "language_info": {
      "codemirror_mode": {
        "name": "ipython",
        "version": 3
      },
      "file_extension": ".py",
      "mimetype": "text/x-python",
      "name": "python",
      "nbconvert_exporter": "python",
      "pygments_lexer": "ipython3",
      "version": "3.7.3"
    },
    "colab": {
      "name": "Logistic_Regression_with_a_Neural_Network_mindset.ipynb",
      "provenance": [],
      "include_colab_link": true
    }
  },
  "cells": [
    {
      "cell_type": "markdown",
      "metadata": {
        "id": "view-in-github",
        "colab_type": "text"
      },
      "source": [
        "<a href=\"https://colab.research.google.com/github/minakshi221283/LAB1/blob/master/Logistic_Regression_with_a_Neural_Network_mindset.ipynb\" target=\"_parent\"><img src=\"https://colab.research.google.com/assets/colab-badge.svg\" alt=\"Open In Colab\"/></a>"
      ]
    },
    {
      "cell_type": "markdown",
      "metadata": {
        "id": "deeaFNI6HxsR",
        "colab_type": "text"
      },
      "source": [
        "# Logistic Regression with a Neural Network mindset\n",
        "\n",
        "Welcome to your first (required) programming assignment! You will build a logistic regression classifier to recognize  cats. This assignment will step you through how to do this with a Neural Network mindset, and so will also hone your intuitions about deep learning.\n",
        "\n",
        "**Instructions:**\n",
        "- Do not use loops (for/while) in your code, unless the instructions explicitly ask you to do so.\n",
        "\n",
        "**You will learn to:**\n",
        "- Build the general architecture of a learning algorithm, including:\n",
        "    - Initializing parameters\n",
        "    - Calculating the cost function and its gradient\n",
        "    - Using an optimization algorithm (gradient descent) \n",
        "- Gather all three functions above into a main model function, in the right order."
      ]
    },
    {
      "cell_type": "markdown",
      "metadata": {
        "id": "IaxHxM8nHxsS",
        "colab_type": "text"
      },
      "source": [
        "## <font color='darkblue'>Updates</font>\n",
        "This notebook has been updated over the past few months.  The prior version was named \"v5\", and the current versionis now named '6a'\n",
        "\n",
        "#### If you were working on a previous version:\n",
        "* You can find your prior work by looking in the file directory for the older files (named by version name).\n",
        "* To view the file directory, click on the \"Coursera\" icon in the top left corner of this notebook.\n",
        "* Please copy your work from the older versions to the new version, in order to submit your work for grading.\n",
        "\n",
        "#### List of Updates\n",
        "* Forward propagation formula, indexing now starts at 1 instead of 0.\n",
        "* Optimization function comment now says \"print cost every 100 training iterations\" instead of \"examples\".\n",
        "* Fixed grammar in the comments.\n",
        "* Y_prediction_test variable name is used consistently.\n",
        "* Plot's axis label now says \"iterations (hundred)\" instead of \"iterations\".\n",
        "* When testing the model, the test image is normalized by dividing by 255."
      ]
    },
    {
      "cell_type": "markdown",
      "metadata": {
        "id": "Ne55DXWPHxsU",
        "colab_type": "text"
      },
      "source": [
        "## 1 - Packages ##\n",
        "\n",
        "First, let's run the cell below to import all the packages that you will need during this assignment. \n",
        "- [numpy](www.numpy.org) is the fundamental package for scientific computing with Python.\n",
        "- [h5py](http://www.h5py.org) is a common package to interact with a dataset that is stored on an H5 file.\n",
        "- [matplotlib](http://matplotlib.org) is a famous library to plot graphs in Python.\n",
        "- [PIL](http://www.pythonware.com/products/pil/) and [scipy](https://www.scipy.org/) are used here to test your model with your own picture at the end."
      ]
    },
    {
      "cell_type": "code",
      "metadata": {
        "id": "bTAIwMxgHxsU",
        "colab_type": "code",
        "colab": {}
      },
      "source": [
        "\n",
        "import numpy as np\n",
        "import matplotlib.pyplot as plt\n",
        "import h5py\n",
        "import scipy\n",
        "from PIL import Image\n",
        "from scipy import ndimage\n",
        "#from lr_utils import load_dataset\n",
        "\n",
        "%matplotlib inline"
      ],
      "execution_count": 59,
      "outputs": []
    },
    {
      "cell_type": "code",
      "metadata": {
        "id": "8dvlXGRU89Rw",
        "colab_type": "code",
        "colab": {}
      },
      "source": [
        "def load_dataset():\n",
        "    with h5py.File('train_catvnoncat.h5', \"r\") as train_dataset:\n",
        "        train_set_x_orig = np.array(train_dataset[\"train_set_x\"][:])\n",
        "        train_set_y_orig = np.array(train_dataset[\"train_set_y\"][:])\n",
        "\n",
        "    with h5py.File('test_catvnoncat.h5', \"r\") as test_dataset:\n",
        "        test_set_x_orig = np.array(test_dataset[\"test_set_x\"][:])\n",
        "        test_set_y_orig = np.array(test_dataset[\"test_set_y\"][:])\n",
        "        classes = np.array(test_dataset[\"list_classes\"][:])\n",
        "\n",
        "    train_set_y_orig = train_set_y_orig.reshape((1, train_set_y_orig.shape[0]))\n",
        "    test_set_y_orig = test_set_y_orig.reshape((1, test_set_y_orig.shape[0]))\n",
        "\n",
        "    return train_set_x_orig, train_set_y_orig, test_set_x_orig, test_set_y_orig, classes"
      ],
      "execution_count": 60,
      "outputs": []
    },
    {
      "cell_type": "markdown",
      "metadata": {
        "id": "UteV_rYhHxsb",
        "colab_type": "text"
      },
      "source": [
        "## 2 - Overview of the Problem set ##\n",
        "\n",
        "**Problem Statement**: You are given a dataset (\"data.h5\") containing:\n",
        "    - a training set of m_train images labeled as cat (y=1) or non-cat (y=0)\n",
        "    - a test set of m_test images labeled as cat or non-cat\n",
        "    - each image is of shape (num_px, num_px, 3) where 3 is for the 3 channels (RGB). Thus, each image is square (height = num_px) and (width = num_px).\n",
        "\n",
        "You will build a simple image-recognition algorithm that can correctly classify pictures as cat or non-cat.\n",
        "\n",
        "Let's get more familiar with the dataset. Load the data by running the following code."
      ]
    },
    {
      "cell_type": "code",
      "metadata": {
        "id": "bCNbWoyJHxsc",
        "colab_type": "code",
        "colab": {}
      },
      "source": [
        "# Loading the data (cat/non-cat)\n",
        "train_set_x_orig, train_set_y, test_set_x_orig, test_set_y, classes = load_dataset()\n",
        "\n",
        "\n"
      ],
      "execution_count": 61,
      "outputs": []
    },
    {
      "cell_type": "markdown",
      "metadata": {
        "id": "3WzRWqHUHxsg",
        "colab_type": "text"
      },
      "source": [
        "We added \"_orig\" at the end of image datasets (train and test) because we are going to preprocess them. After preprocessing, we will end up with train_set_x and test_set_x (the labels train_set_y and test_set_y don't need any preprocessing).\n",
        "\n",
        "Each line of your train_set_x_orig and test_set_x_orig is an array representing an image. You can visualize an example by running the following code. Feel free also to change the `index` value and re-run to see other images. "
      ]
    },
    {
      "cell_type": "code",
      "metadata": {
        "id": "-cbqhh43Hxsh",
        "colab_type": "code",
        "colab": {
          "base_uri": "https://localhost:8080/",
          "height": 286
        },
        "outputId": "c4021c37-ff1b-4dca-f6f4-a1d65131ca60"
      },
      "source": [
        "# Example of a picture\n",
        "index = 25\n",
        "plt.imshow(train_set_x_orig[index])\n",
        "print (\"y = \" + str(train_set_y[:, index]) + \", it's a '\" + classes[np.squeeze(train_set_y[:, index])].decode(\"utf-8\") +  \"' picture.\")"
      ],
      "execution_count": 62,
      "outputs": [
        {
          "output_type": "stream",
          "text": [
            "y = [1], it's a 'cat' picture.\n"
          ],
          "name": "stdout"
        },
        {
          "output_type": "display_data",
          "data": {
            "image/png": "[encoded data removed]",
            "text/plain": [
              "<Figure size 432x288 with 1 Axes>"
            ]
          },
          "metadata": {
            "tags": [],
            "needs_background": "light"
          }
        }
      ]
    },
    {
      "cell_type": "markdown",
      "metadata": {
        "id": "v0swqsAVHxsn",
        "colab_type": "text"
      },
      "source": [
        "Many software bugs in deep learning come from having matrix/vector dimensions that don't fit. If you can keep your matrix/vector dimensions straight you will go a long way toward eliminating many bugs. \n",
        "\n",
        "**Exercise:** Find the values for:\n",
        "    - m_train (number of training examples)\n",
        "    - m_test (number of test examples)\n",
        "    - num_px (= height = width of a training image)\n",
        "Remember that `train_set_x_orig` is a numpy-array of shape (m_train, num_px, num_px, 3). For instance, you can access `m_train` by writing `train_set_x_orig.shape[0]`."
      ]
    },
    {
      "cell_type": "code",
      "metadata": {
        "scrolled": false,
        "id": "xSPb5QyaHxso",
        "colab_type": "code",
        "colab": {
          "base_uri": "https://localhost:8080/",
          "height": 163
        },
        "outputId": "a09b2db2-7ed4-4266-9300-d0485716e400"
      },
      "source": [
        "### START CODE HERE ### (≈ 3 lines of code)\n",
        "m_train = train_set_x_orig.shape[0]\n",
        "m_test  = test_set_x_orig.shape[0]\n",
        "num_px  = train_set_x_orig.shape[1]\n",
        "### END CODE HERE ###\n",
        "\n",
        "print (\"Number of training examples: m_train = \" + str(m_train))\n",
        "print (\"Number of testing examples: m_test = \" + str(m_test))\n",
        "print (\"Height/Width of each image: num_px = \" + str(num_px))\n",
        "print (\"Each image is of size: (\" + str(num_px) + \", \" + str(num_px) + \", 3)\")\n",
        "print (\"train_set_x shape: \" + str(train_set_x_orig.shape))\n",
        "print (\"train_set_y shape: \" + str(train_set_y.shape))\n",
        "print (\"test_set_x shape: \" + str(test_set_x_orig.shape))\n",
        "print (\"test_set_y shape: \" + str(test_set_y.shape))"
      ],
      "execution_count": 63,
      "outputs": [
        {
          "output_type": "stream",
          "text": [
            "Number of training examples: m_train = 209\n",
            "Number of testing examples: m_test = 50\n",
            "Height/Width of each image: num_px = 64\n",
            "Each image is of size: (64, 64, 3)\n",
            "train_set_x shape: (209, 64, 64, 3)\n",
            "train_set_y shape: (1, 209)\n",
            "test_set_x shape: (50, 64, 64, 3)\n",
            "test_set_y shape: (1, 50)\n"
          ],
          "name": "stdout"
        }
      ]
    },
    {
      "cell_type": "markdown",
      "metadata": {
        "id": "KvQ6BQG-Hxst",
        "colab_type": "text"
      },
      "source": [
        "**Expected Output for m_train, m_test and num_px**: \n",
        "<table style=\"width:15%\">\n",
        "  <tr>\n",
        "    <td>**m_train**</td>\n",
        "    <td> 209 </td> \n",
        "  </tr>\n",
        "  \n",
        "  <tr>\n",
        "    <td>**m_test**</td>\n",
        "    <td> 50 </td> \n",
        "  </tr>\n",
        "  \n",
        "  <tr>\n",
        "    <td>**num_px**</td>\n",
        "    <td> 64 </td> \n",
        "  </tr>\n",
        "  \n",
        "</table>\n"
      ]
    },
    {
      "cell_type": "markdown",
      "metadata": {
        "id": "il1zLpz6Hxsu",
        "colab_type": "text"
      },
      "source": [
        "For convenience, you should now reshape images of shape (num_px, num_px, 3) in a numpy-array of shape (num_px $*$ num_px $*$ 3, 1). After this, our training (and test) dataset is a numpy-array where each column represents a flattened image. There should be m_train (respectively m_test) columns.\n",
        "\n",
        "**Exercise:** Reshape the training and test data sets so that images of size (num_px, num_px, 3) are flattened into single vectors of shape (num\\_px $*$ num\\_px $*$ 3, 1).\n",
        "\n",
        "A trick when you want to flatten a matrix X of shape (a,b,c,d) to a matrix X_flatten of shape (b$*$c$*$d, a) is to use: \n",
        "```python\n",
        "X_flatten = X.reshape(X.shape[0], -1).T      # X.T is the transpose of X\n",
        "```"
      ]
    },
    {
      "cell_type": "code",
      "metadata": {
        "id": "0uSm1PevHxsv",
        "colab_type": "code",
        "colab": {
          "base_uri": "https://localhost:8080/",
          "height": 108
        },
        "outputId": "2c6d4985-9ca7-497c-bcb5-ea2804af897b"
      },
      "source": [
        "# Reshape the training and test examples\n",
        "\n",
        "### START CODE HERE ### (≈ 2 lines of code)\n",
        "train_set_x_flatten = train_set_x_orig.reshape(train_set_x_orig.shape[0], -1).T\n",
        "test_set_x_flatten = test_set_x_orig.reshape(test_set_x_orig.shape[0], -1).T\n",
        "### END CODE HERE ###\n",
        "\n",
        "print (\"train_set_x_flatten shape: \" + str(train_set_x_flatten.shape))\n",
        "print (\"train_set_y shape: \" + str(train_set_y.shape))\n",
        "print (\"test_set_x_flatten shape: \" + str(test_set_x_flatten.shape))\n",
        "print (\"test_set_y shape: \" + str(test_set_y.shape))\n",
        "print (\"sanity check after reshaping: \" + str(train_set_x_flatten[0:5,0]))"
      ],
      "execution_count": 64,
      "outputs": [
        {
          "output_type": "stream",
          "text": [
            "train_set_x_flatten shape: (12288, 209)\n",
            "train_set_y shape: (1, 209)\n",
            "test_set_x_flatten shape: (12288, 50)\n",
            "test_set_y shape: (1, 50)\n",
            "sanity check after reshaping: [17 31 56 22 33]\n"
          ],
          "name": "stdout"
        }
      ]
    },
    {
      "cell_type": "markdown",
      "metadata": {
        "id": "cC4Vw1CgHxs0",
        "colab_type": "text"
      },
      "source": [
        "**Expected Output**: \n",
        "\n",
        "<table style=\"width:35%\">\n",
        "  <tr>\n",
        "    <td>**train_set_x_flatten shape**</td>\n",
        "    <td> (12288, 209)</td> \n",
        "  </tr>\n",
        "  <tr>\n",
        "    <td>**train_set_y shape**</td>\n",
        "    <td>(1, 209)</td> \n",
        "  </tr>\n",
        "  <tr>\n",
        "    <td>**test_set_x_flatten shape**</td>\n",
        "    <td>(12288, 50)</td> \n",
        "  </tr>\n",
        "  <tr>\n",
        "    <td>**test_set_y shape**</td>\n",
        "    <td>(1, 50)</td> \n",
        "  </tr>\n",
        "  <tr>\n",
        "  <td>**sanity check after reshaping**</td>\n",
        "  <td>[17 31 56 22 33]</td> \n",
        "  </tr>\n",
        "</table>"
      ]
    },
    {
      "cell_type": "markdown",
      "metadata": {
        "id": "xYQszHTeHxs1",
        "colab_type": "text"
      },
      "source": [
        "To represent color images, the red, green and blue channels (RGB) must be specified for each pixel, and so the pixel value is actually a vector of three numbers ranging from 0 to 255.\n",
        "\n",
        "One common preprocessing step in machine learning is to center and standardize your dataset, meaning that you substract the mean of the whole numpy array from each example, and then divide each example by the standard deviation of the whole numpy array. But for picture datasets, it is simpler and more convenient and works almost as well to just divide every row of the dataset by 255 (the maximum value of a pixel channel).\n",
        "\n",
        "<!-- During the training of your model, you're going to multiply weights and add biases to some initial inputs in order to observe neuron activations. Then you backpropogate with the gradients to train the model. But, it is extremely important for each feature to have a similar range such that our gradients don't explode. You will see that more in detail later in the lectures. !--> \n",
        "\n",
        "Let's standardize our dataset."
      ]
    },
    {
      "cell_type": "code",
      "metadata": {
        "id": "xmk44D4HHxs3",
        "colab_type": "code",
        "colab": {}
      },
      "source": [
        "train_set_x = train_set_x_flatten/255.\n",
        "test_set_x = test_set_x_flatten/255."
      ],
      "execution_count": 65,
      "outputs": []
    },
    {
      "cell_type": "markdown",
      "metadata": {
        "id": "J0cL6f83Hxs8",
        "colab_type": "text"
      },
      "source": [
        "<font color='blue'>\n",
        "**What you need to remember:**\n",
        "\n",
        "Common steps for pre-processing a new dataset are:\n",
        "- Figure out the dimensions and shapes of the problem (m_train, m_test, num_px, ...)\n",
        "- Reshape the datasets such that each example is now a vector of size (num_px \\* num_px \\* 3, 1)\n",
        "- \"Standardize\" the data"
      ]
    },
    {
      "cell_type": "markdown",
      "metadata": {
        "id": "rBJSQ135Hxs9",
        "colab_type": "text"
      },
      "source": [
        "## 3 - General Architecture of the learning algorithm ##\n",
        "\n",
        "It's time to design a simple algorithm to distinguish cat images from non-cat images.\n",
        "\n",
        "You will build a Logistic Regression, using a Neural Network mindset. The following Figure explains why **Logistic Regression is actually a very simple Neural Network!**\n",
        "\n",
        "<img src=\"images/LogReg_kiank.png\" style=\"width:650px;height:400px;\">\n",
        "\n",
        "**Mathematical expression of the algorithm**:\n",
        "\n",
        "For one example $x^{(i)}$:\n",
        "$$z^{(i)} = w^T x^{(i)} + b \\tag{1}$$\n",
        "$$\\hat{y}^{(i)} = a^{(i)} = sigmoid(z^{(i)})\\tag{2}$$ \n",
        "$$ \\mathcal{L}(a^{(i)}, y^{(i)}) =  - y^{(i)}  \\log(a^{(i)}) - (1-y^{(i)} )  \\log(1-a^{(i)})\\tag{3}$$\n",
        "\n",
        "The cost is then computed by summing over all training examples:\n",
        "$$ J = \\frac{1}{m} \\sum_{i=1}^m \\mathcal{L}(a^{(i)}, y^{(i)})\\tag{6}$$\n",
        "\n",
        "**Key steps**:\n",
        "In this exercise, you will carry out the following steps: \n",
        "    - Initialize the parameters of the model\n",
        "    - Learn the parameters for the model by minimizing the cost  \n",
        "    - Use the learned parameters to make predictions (on the test set)\n",
        "    - Analyse the results and conclude"
      ]
    },
    {
      "cell_type": "markdown",
      "metadata": {
        "id": "-qt5OwoKHxs9",
        "colab_type": "text"
      },
      "source": [
        "## 4 - Building the parts of our algorithm ## \n",
        "\n",
        "The main steps for building a Neural Network are:\n",
        "1. Define the model structure (such as number of input features) \n",
        "2. Initialize the model's parameters\n",
        "3. Loop:\n",
        "    - Calculate current loss (forward propagation)\n",
        "    - Calculate current gradient (backward propagation)\n",
        "    - Update parameters (gradient descent)\n",
        "\n",
        "You often build 1-3 separately and integrate them into one function we call `model()`.\n",
        "\n",
        "### 4.1 - Helper functions\n",
        "\n",
        "**Exercise**: Using your code from \"Python Basics\", implement `sigmoid()`. As you've seen in the figure above, you need to compute $sigmoid( w^T x + b) = \\frac{1}{1 + e^{-(w^T x + b)}}$ to make predictions. Use np.exp()."
      ]
    },
    {
      "cell_type": "code",
      "metadata": {
        "id": "lGJGOSiAHxs-",
        "colab_type": "code",
        "colab": {}
      },
      "source": [
        "# GRADED FUNCTION: sigmoid\n",
        "\n",
        "def sigmoid(z):\n",
        "    \"\"\"\n",
        "    Compute the sigmoid of z\n",
        "\n",
        "    Arguments:\n",
        "    z -- A scalar or numpy array of any size.\n",
        "\n",
        "    Return:\n",
        "    s -- sigmoid(z)\n",
        "    \"\"\"\n",
        "\n",
        "    ### START CODE HERE ### (≈ 1 line of code)\n",
        "    s = 1/(1+np.exp(-z))\n",
        "    ### END CODE HERE ###\n",
        "    \n",
        "    return s"
      ],
      "execution_count": 66,
      "outputs": []
    },
    {
      "cell_type": "code",
      "metadata": {
        "scrolled": true,
        "id": "Iu0f7JSGHxtD",
        "colab_type": "code",
        "colab": {
          "base_uri": "https://localhost:8080/",
          "height": 35
        },
        "outputId": "9c8e398f-b5e5-40a9-a79a-30638b5ace94"
      },
      "source": [
        "print (\"sigmoid([0, 2]) = \" + str(sigmoid(np.array([0,2]))))"
      ],
      "execution_count": 67,
      "outputs": [
        {
          "output_type": "stream",
          "text": [
            "sigmoid([0, 2]) = [0.5        0.88079708]\n"
          ],
          "name": "stdout"
        }
      ]
    },
    {
      "cell_type": "markdown",
      "metadata": {
        "id": "Fd18WEgrHxtH",
        "colab_type": "text"
      },
      "source": [
        "**Expected Output**: \n",
        "\n",
        "<table>\n",
        "  <tr>\n",
        "    <td>**sigmoid([0, 2])**</td>\n",
        "    <td> [ 0.5         0.88079708]</td> \n",
        "  </tr>\n",
        "</table>"
      ]
    },
    {
      "cell_type": "markdown",
      "metadata": {
        "id": "NP0FKl4lHxtI",
        "colab_type": "text"
      },
      "source": [
        "### 4.2 - Initializing parameters\n",
        "\n",
        "**Exercise:** Implement parameter initialization in the cell below. You have to initialize w as a vector of zeros. If you don't know what numpy function to use, look up np.zeros() in the Numpy library's documentation."
      ]
    },
    {
      "cell_type": "code",
      "metadata": {
        "id": "MxWm52MHHxtI",
        "colab_type": "code",
        "colab": {}
      },
      "source": [
        "# GRADED FUNCTION: initialize_with_zeros\n",
        "\n",
        "def initialize_with_zeros(dim):\n",
        "    \"\"\"\n",
        "    This function creates a vector of zeros of shape (dim, 1) for w and initializes b to 0.\n",
        "    \n",
        "    Argument:\n",
        "    dim -- size of the w vector we want (or number of parameters in this case)\n",
        "    \n",
        "    Returns:\n",
        "    w -- initialized vector of shape (dim, 1)\n",
        "    b -- initialized scalar (corresponds to the bias)\n",
        "    \"\"\"\n",
        "    \n",
        "    ### START CODE HERE ### (≈ 1 line of code)\n",
        "    w = np.zeros((dim,1))\n",
        "    b = 0\n",
        "    ### END CODE HERE ###\n",
        "\n",
        "    assert(w.shape == (dim, 1))\n",
        "    assert(isinstance(b, float) or isinstance(b, int))\n",
        "    \n",
        "    return w, b"
      ],
      "execution_count": 68,
      "outputs": []
    },
    {
      "cell_type": "code",
      "metadata": {
        "id": "BY1aHeh7HxtP",
        "colab_type": "code",
        "colab": {
          "base_uri": "https://localhost:8080/",
          "height": 72
        },
        "outputId": "f58470c2-064b-4943-d1c1-fce208495f83"
      },
      "source": [
        "dim = 2\n",
        "w, b = initialize_with_zeros(dim)\n",
        "print (\"w = \" + str(w))\n",
        "print (\"b = \" + str(b))"
      ],
      "execution_count": 69,
      "outputs": [
        {
          "output_type": "stream",
          "text": [
            "w = [[0.]\n",
            " [0.]]\n",
            "b = 0\n"
          ],
          "name": "stdout"
        }
      ]
    },
    {
      "cell_type": "markdown",
      "metadata": {
        "id": "O9WjPs5KHxtT",
        "colab_type": "text"
      },
      "source": [
        "**Expected Output**: \n",
        "\n",
        "\n",
        "<table style=\"width:15%\">\n",
        "    <tr>\n",
        "        <td>  ** w **  </td>\n",
        "        <td> [[ 0.]\n",
        " [ 0.]] </td>\n",
        "    </tr>\n",
        "    <tr>\n",
        "        <td>  ** b **  </td>\n",
        "        <td> 0 </td>\n",
        "    </tr>\n",
        "</table>\n",
        "\n",
        "For image inputs, w will be of shape (num_px $\\times$ num_px $\\times$ 3, 1)."
      ]
    },
    {
      "cell_type": "markdown",
      "metadata": {
        "id": "g5ue_g3kHxtU",
        "colab_type": "text"
      },
      "source": [
        "### 4.3 - Forward and Backward propagation\n",
        "\n",
        "Now that your parameters are initialized, you can do the \"forward\" and \"backward\" propagation steps for learning the parameters.\n",
        "\n",
        "**Exercise:** Implement a function `propagate()` that computes the cost function and its gradient.\n",
        "\n",
        "**Hints**:\n",
        "\n",
        "Forward Propagation:\n",
        "- You get X\n",
        "- You compute $A = \\sigma(w^T X + b) = (a^{(1)}, a^{(2)}, ..., a^{(m-1)}, a^{(m)})$\n",
        "- You calculate the cost function: $J = -\\frac{1}{m}\\sum_{i=1}^{m}y^{(i)}\\log(a^{(i)})+(1-y^{(i)})\\log(1-a^{(i)})$\n",
        "\n",
        "Here are the two formulas you will be using: \n",
        "\n",
        "$$ \\frac{\\partial J}{\\partial w} = \\frac{1}{m}X(A-Y)^T\\tag{7}$$\n",
        "$$ \\frac{\\partial J}{\\partial b} = \\frac{1}{m} \\sum_{i=1}^m (a^{(i)}-y^{(i)})\\tag{8}$$"
      ]
    },
    {
      "cell_type": "code",
      "metadata": {
        "id": "_5UQ1hEAHxtW",
        "colab_type": "code",
        "colab": {}
      },
      "source": [
        "# GRADED FUNCTION: propagate\n",
        "\n",
        "def propagate(w, b, X, Y):\n",
        "    \"\"\"\n",
        "    Implement the cost function and its gradient for the propagation explained above\n",
        "\n",
        "    Arguments:\n",
        "    w -- weights, a numpy array of size (num_px * num_px * 3, 1)\n",
        "    b -- bias, a scalar\n",
        "    X -- data of size (num_px * num_px * 3, number of examples)\n",
        "    Y -- true \"label\" vector (containing 0 if non-cat, 1 if cat) of size (1, number of examples)\n",
        "\n",
        "    Return:\n",
        "    cost -- negative log-likelihood cost for logistic regression\n",
        "    dw -- gradient of the loss with respect to w, thus same shape as w\n",
        "    db -- gradient of the loss with respect to b, thus same shape as b\n",
        "    \n",
        "    Tips:\n",
        "    - Write your code step by step for the propagation. np.log(), np.dot()\n",
        "    \"\"\"\n",
        "    \n",
        "    m = X.shape[1]\n",
        "    \n",
        "    # FORWARD PROPAGATION (FROM X TO COST)\n",
        "    ### START CODE HERE ### (≈ 2 lines of code)\n",
        "    A = sigmoid(np.dot(w.T, X)+b)                                    # compute activation\n",
        "    cost = -(np.sum(Y * np.log(A) + (1-Y) * np.log(1-A)))/m          # compute cost\n",
        "    ### END CODE HERE ###\n",
        "    \n",
        "    # BACKWARD PROPAGATION (TO FIND GRAD)\n",
        "    ### START CODE HERE ### (≈ 2 lines of code)\n",
        "    dw = (np.dot(X, (A-Y).T))/m\n",
        "    db = (np.sum(A-Y))/m\n",
        "    ### END CODE HERE ###\n",
        "\n",
        "    assert(dw.shape == w.shape)\n",
        "    assert(db.dtype == float)\n",
        "    cost = np.squeeze(cost)\n",
        "    assert(cost.shape == ())\n",
        "    \n",
        "    grads = {\"dw\": dw,\n",
        "             \"db\": db}\n",
        "    \n",
        "    return grads, cost"
      ],
      "execution_count": 70,
      "outputs": []
    },
    {
      "cell_type": "code",
      "metadata": {
        "id": "MCbGq5SWHxtZ",
        "colab_type": "code",
        "colab": {
          "base_uri": "https://localhost:8080/",
          "height": 90
        },
        "outputId": "84277a01-e0c3-48ca-b84f-8010c6540221"
      },
      "source": [
        "w, b, X, Y = np.array([[1.],[2.]]), 2., np.array([[1.,2.,-1.],[3.,4.,-3.2]]), np.array([[1,0,1]])\n",
        "grads, cost = propagate(w, b, X, Y)\n",
        "print (\"dw = \" + str(grads[\"dw\"]))\n",
        "print (\"db = \" + str(grads[\"db\"]))\n",
        "print (\"cost = \" + str(cost))"
      ],
      "execution_count": 71,
      "outputs": [
        {
          "output_type": "stream",
          "text": [
            "dw = [[0.99845601]\n",
            " [2.39507239]]\n",
            "db = 0.001455578136784208\n",
            "cost = 5.801545319394553\n"
          ],
          "name": "stdout"
        }
      ]
    },
    {
      "cell_type": "markdown",
      "metadata": {
        "id": "t4qhJw-IHxtf",
        "colab_type": "text"
      },
      "source": [
        "**Expected Output**:\n",
        "\n",
        "<table style=\"width:50%\">\n",
        "    <tr>\n",
        "        <td>  ** dw **  </td>\n",
        "      <td> [[ 0.99845601]\n",
        "     [ 2.39507239]]</td>\n",
        "    </tr>\n",
        "    <tr>\n",
        "        <td>  ** db **  </td>\n",
        "        <td> 0.00145557813678 </td>\n",
        "    </tr>\n",
        "    <tr>\n",
        "        <td>  ** cost **  </td>\n",
        "        <td> 5.801545319394553 </td>\n",
        "    </tr>\n",
        "\n",
        "</table>"
      ]
    },
    {
      "cell_type": "markdown",
      "metadata": {
        "id": "t6Vs6tToHxtf",
        "colab_type": "text"
      },
      "source": [
        "### 4.4 - Optimization\n",
        "- You have initialized your parameters.\n",
        "- You are also able to compute a cost function and its gradient.\n",
        "- Now, you want to update the parameters using gradient descent.\n",
        "\n",
        "**Exercise:** Write down the optimization function. The goal is to learn $w$ and $b$ by minimizing the cost function $J$. For a parameter $\\theta$, the update rule is $ \\theta = \\theta - \\alpha \\text{ } d\\theta$, where $\\alpha$ is the learning rate."
      ]
    },
    {
      "cell_type": "code",
      "metadata": {
        "id": "clH4qvt8Hxtg",
        "colab_type": "code",
        "colab": {}
      },
      "source": [
        "# GRADED FUNCTION: optimize\n",
        "\n",
        "def optimize(w, b, X, Y, num_iterations, learning_rate, print_cost = False):\n",
        "    \"\"\"\n",
        "    This function optimizes w and b by running a gradient descent algorithm\n",
        "    \n",
        "    Arguments:\n",
        "    w -- weights, a numpy array of size (num_px * num_px * 3, 1)\n",
        "    b -- bias, a scalar\n",
        "    X -- data of shape (num_px * num_px * 3, number of examples)\n",
        "    Y -- true \"label\" vector (containing 0 if non-cat, 1 if cat), of shape (1, number of examples)\n",
        "    num_iterations -- number of iterations of the optimization loop\n",
        "    learning_rate -- learning rate of the gradient descent update rule\n",
        "    print_cost -- True to print the loss every 100 steps\n",
        "    \n",
        "    Returns:\n",
        "    params -- dictionary containing the weights w and bias b\n",
        "    grads -- dictionary containing the gradients of the weights and bias with respect to the cost function\n",
        "    costs -- list of all the costs computed during the optimization, this will be used to plot the learning curve.\n",
        "    \n",
        "    Tips:\n",
        "    You basically need to write down two steps and iterate through them:\n",
        "        1) Calculate the cost and the gradient for the current parameters. Use propagate().\n",
        "        2) Update the parameters using gradient descent rule for w and b.\n",
        "    \"\"\"\n",
        "    \n",
        "    costs = []\n",
        "    \n",
        "    for i in range(num_iterations):\n",
        "        \n",
        "        \n",
        "        # Cost and gradient calculation (≈ 1-4 lines of code)\n",
        "        ### START CODE HERE ### \n",
        "        grads, cost = propagate(w, b, X, Y)\n",
        "        ### END CODE HERE ###\n",
        "        \n",
        "        # Retrieve derivatives from grads\n",
        "        dw = grads[\"dw\"]\n",
        "        db = grads[\"db\"]\n",
        "        \n",
        "        # update rule (≈ 2 lines of code)\n",
        "        ### START CODE HERE ###\n",
        "        w -= learning_rate * dw\n",
        "        b -=  learning_rate * db\n",
        "        ### END CODE HERE ###\n",
        "        \n",
        "        # Record the costs\n",
        "        if i % 100 == 0:\n",
        "            costs.append(cost)\n",
        "        \n",
        "        # Print the cost every 100 training iterations\n",
        "        if print_cost and i % 100 == 0:\n",
        "            print (\"Cost after iteration %i: %f\" %(i, cost))\n",
        "    \n",
        "    params = {\"w\": w,\n",
        "              \"b\": b}\n",
        "    \n",
        "    grads = {\"dw\": dw,\n",
        "             \"db\": db}\n",
        "    \n",
        "    return params, grads, costs"
      ],
      "execution_count": 72,
      "outputs": []
    },
    {
      "cell_type": "code",
      "metadata": {
        "id": "g10GiO0FHxtj",
        "colab_type": "code",
        "colab": {
          "base_uri": "https://localhost:8080/",
          "height": 126
        },
        "outputId": "3dda70dc-062d-4b67-e6fe-941c69b7e0b8"
      },
      "source": [
        "params, grads, costs = optimize(w, b, X, Y, num_iterations= 100, learning_rate = 0.009, print_cost = False)\n",
        "\n",
        "print (\"w = \" + str(params[\"w\"]))\n",
        "print (\"b = \" + str(params[\"b\"]))\n",
        "print (\"dw = \" + str(grads[\"dw\"]))\n",
        "print (\"db = \" + str(grads[\"db\"]))"
      ],
      "execution_count": 73,
      "outputs": [
        {
          "output_type": "stream",
          "text": [
            "w = [[0.19033591]\n",
            " [0.12259159]]\n",
            "b = 1.9253598300845747\n",
            "dw = [[0.67752042]\n",
            " [1.41625495]]\n",
            "db = 0.21919450454067657\n"
          ],
          "name": "stdout"
        }
      ]
    },
    {
      "cell_type": "markdown",
      "metadata": {
        "id": "ujNsLdS4Hxtp",
        "colab_type": "text"
      },
      "source": [
        "**Expected Output**: \n",
        "\n",
        " w [[ 0.19033591]\n",
        " [ 0.12259159]] \n",
        " b\n",
        " 1.92535983008 \n",
        " dw\n",
        " [[ 0.67752042]\n",
        " [ 1.41625495]\n",
        " \n",
        " db\n",
        " 0.219194504541 "
      ]
    },
    {
      "cell_type": "markdown",
      "metadata": {
        "id": "P0-G1rIxHxtq",
        "colab_type": "text"
      },
      "source": [
        "**Exercise:** The previous function will output the learned w and b. We are able to use w and b to predict the labels for a dataset X. Implement the `predict()` function. There are two steps to computing predictions:\n",
        "\n",
        "1. Calculate $\\hat{Y} = A = \\sigma(w^T X + b)$\n",
        "\n",
        "2. Convert the entries of a into 0 (if activation <= 0.5) or 1 (if activation > 0.5), stores the predictions in a vector `Y_prediction`. If you wish, you can use an `if`/`else` statement in a `for` loop (though there is also a way to vectorize this). "
      ]
    },
    {
      "cell_type": "code",
      "metadata": {
        "id": "j_Eca8Z-Hxtr",
        "colab_type": "code",
        "colab": {}
      },
      "source": [
        "# GRADED FUNCTION: predict\n",
        "\n",
        "def predict(w, b, X):\n",
        "    '''\n",
        "    Predict whether the label is 0 or 1 using learned logistic regression parameters (w, b)\n",
        "    \n",
        "    Arguments:\n",
        "    w -- weights, a numpy array of size (num_px * num_px * 3, 1)\n",
        "    b -- bias, a scalar\n",
        "    X -- data of size (num_px * num_px * 3, number of examples)\n",
        "    \n",
        "    Returns:\n",
        "    Y_prediction -- a numpy array (vector) containing all predictions (0/1) for the examples in X\n",
        "    '''\n",
        "    \n",
        "    m = X.shape[1]\n",
        "    Y_prediction = np.zeros((1,m))\n",
        "    w = w.reshape(X.shape[0], 1)\n",
        "    \n",
        "    # Compute vector \"A\" predicting the probabilities of a cat being present in the picture\n",
        "    ### START CODE HERE ### (≈ 1 line of code)\n",
        "    A = sigmoid(np.dot(w.T, X)+b)\n",
        "    ### END CODE HERE ###\n",
        "    \n",
        "    for i in range(A.shape[1]):\n",
        "        # Convert probabilities A[0,i] to actual predictions p[0,i]\n",
        "        ### START CODE HERE ### (≈ 4 lines of code)\n",
        "        Y_prediction[0, i] = 1 if A[0, i] > 0.5 else 0\n",
        "        ### END CODE HERE ###\n",
        "    \n",
        "    assert(Y_prediction.shape == (1, m))\n",
        "    \n",
        "    return Y_prediction"
      ],
      "execution_count": null,
      "outputs": []
    },
    {
      "cell_type": "code",
      "metadata": {
        "id": "M77jTZ8JHxtu",
        "colab_type": "code",
        "colab": {
          "base_uri": "https://localhost:8080/",
          "height": 35
        },
        "outputId": "bd8c84a6-7fdf-4d65-8039-e88a1eb84dce"
      },
      "source": [
        "w = np.array([[0.1124579],[0.23106775]])\n",
        "b = -0.3\n",
        "X = np.array([[1.,-1.1,-3.2],[1.2,2.,0.1]])\n",
        "print (\"predictions = \" + str(predict(w, b, X)))"
      ],
      "execution_count": 74,
      "outputs": [
        {
          "output_type": "stream",
          "text": [
            "predictions = [[1. 1. 0.]]\n"
          ],
          "name": "stdout"
        }
      ]
    },
    {
      "cell_type": "markdown",
      "metadata": {
        "id": "9fRcfS-OHxtx",
        "colab_type": "text"
      },
      "source": [
        "**Expected Output**: \n",
        "\n",
        "<table style=\"width:30%\">\n",
        "    <tr>\n",
        "         <td>\n",
        "             **predictions**\n",
        "         </td>\n",
        "          <td>\n",
        "            [[ 1.  1.  0.]]\n",
        "         </td>  \n",
        "   </tr>\n",
        "\n",
        "</table>\n"
      ]
    },
    {
      "cell_type": "markdown",
      "metadata": {
        "id": "CIiqPW7SHxty",
        "colab_type": "text"
      },
      "source": [
        "<font color='blue'>\n",
        "**What to remember:**\n",
        "You've implemented several functions that:\n",
        "- Initialize (w,b)\n",
        "- Optimize the loss iteratively to learn parameters (w,b):\n",
        "    - computing the cost and its gradient \n",
        "    - updating the parameters using gradient descent\n",
        "- Use the learned (w,b) to predict the labels for a given set of examples"
      ]
    },
    {
      "cell_type": "markdown",
      "metadata": {
        "id": "tRglwg0dHxty",
        "colab_type": "text"
      },
      "source": [
        "## 5 - Merge all functions into a model ##\n",
        "\n",
        "You will now see how the overall model is structured by putting together all the building blocks (functions implemented in the previous parts) together, in the right order.\n",
        "\n",
        "**Exercise:** Implement the model function. Use the following notation:\n",
        "    - Y_prediction_test for your predictions on the test set\n",
        "    - Y_prediction_train for your predictions on the train set\n",
        "    - w, costs, grads for the outputs of optimize()"
      ]
    },
    {
      "cell_type": "code",
      "metadata": {
        "id": "-n3Y_sCqHxtz",
        "colab_type": "code",
        "colab": {}
      },
      "source": [
        "# GRADED FUNCTION: model\n",
        "\n",
        "def model(X_train, Y_train, X_test, Y_test, num_iterations = 2000, learning_rate = 0.5, print_cost = False):\n",
        "    \"\"\"\n",
        "    Builds the logistic regression model by calling the function you've implemented previously\n",
        "    \n",
        "    Arguments:\n",
        "    X_train -- training set represented by a numpy array of shape (num_px * num_px * 3, m_train)\n",
        "    Y_train -- training labels represented by a numpy array (vector) of shape (1, m_train)\n",
        "    X_test -- test set represented by a numpy array of shape (num_px * num_px * 3, m_test)\n",
        "    Y_test -- test labels represented by a numpy array (vector) of shape (1, m_test)\n",
        "    num_iterations -- hyperparameter representing the number of iterations to optimize the parameters\n",
        "    learning_rate -- hyperparameter representing the learning rate used in the update rule of optimize()\n",
        "    print_cost -- Set to true to print the cost every 100 iterations\n",
        "    \n",
        "    Returns:\n",
        "    d -- dictionary containing information about the model.\n",
        "    \"\"\"\n",
        "    \n",
        "    ### START CODE HERE ###\n",
        "    \n",
        "    # initialize parameters with zeros (≈ 1 line of code)\n",
        "    w, b = initialize_with_zeros(X_train.shape[0])\n",
        "\n",
        "    # Gradient descent (≈ 1 line of code)\n",
        "    parameters, grads, costs = optimize(w, b, X_train, Y_train, num_iterations, learning_rate, print_cost)\n",
        "    \n",
        "    # Retrieve parameters w and b from dictionary \"parameters\"\n",
        "    w = parameters[\"w\"]\n",
        "    b = parameters[\"b\"]\n",
        "    \n",
        "    # Predict test/train set examples (≈ 2 lines of code)\n",
        "    Y_prediction_test = predict(w, b, X_test)\n",
        "    Y_prediction_train = predict(w, b, X_train)\n",
        "\n",
        "    ### END CODE HERE ###\n",
        "\n",
        "    # Print train/test Errors\n",
        "    print(\"train accuracy: {} %\".format(100 - np.mean(np.abs(Y_prediction_train - Y_train)) * 100))\n",
        "    print(\"test accuracy: {} %\".format(100 - np.mean(np.abs(Y_prediction_test - Y_test)) * 100))\n",
        "\n",
        "    \n",
        "    d = {\"costs\": costs,\n",
        "         \"Y_prediction_test\": Y_prediction_test, \n",
        "         \"Y_prediction_train\" : Y_prediction_train, \n",
        "         \"w\" : w, \n",
        "         \"b\" : b,\n",
        "         \"learning_rate\" : learning_rate,\n",
        "         \"num_iterations\": num_iterations}\n",
        "    \n",
        "    return d"
      ],
      "execution_count": 75,
      "outputs": []
    },
    {
      "cell_type": "markdown",
      "metadata": {
        "id": "nf_PGCWTHxt2",
        "colab_type": "text"
      },
      "source": [
        "Run the following cell to train your model."
      ]
    },
    {
      "cell_type": "code",
      "metadata": {
        "id": "sTMvOcaBHxt2",
        "colab_type": "code",
        "colab": {
          "base_uri": "https://localhost:8080/",
          "height": 417
        },
        "outputId": "6f7393f5-9f90-44ec-c952-a9eba95979d5"
      },
      "source": [
        "d = model(train_set_x, train_set_y, test_set_x, test_set_y, num_iterations = 2000, learning_rate = 0.005, print_cost = True)"
      ],
      "execution_count": 76,
      "outputs": [
        {
          "output_type": "stream",
          "text": [
            "Cost after iteration 0: 0.693147\n",
            "Cost after iteration 100: 0.584508\n",
            "Cost after iteration 200: 0.466949\n",
            "Cost after iteration 300: 0.376007\n",
            "Cost after iteration 400: 0.331463\n",
            "Cost after iteration 500: 0.303273\n",
            "Cost after iteration 600: 0.279880\n",
            "Cost after iteration 700: 0.260042\n",
            "Cost after iteration 800: 0.242941\n",
            "Cost after iteration 900: 0.228004\n",
            "Cost after iteration 1000: 0.214820\n",
            "Cost after iteration 1100: 0.203078\n",
            "Cost after iteration 1200: 0.192544\n",
            "Cost after iteration 1300: 0.183033\n",
            "Cost after iteration 1400: 0.174399\n",
            "Cost after iteration 1500: 0.166521\n",
            "Cost after iteration 1600: 0.159305\n",
            "Cost after iteration 1700: 0.152667\n",
            "Cost after iteration 1800: 0.146542\n",
            "Cost after iteration 1900: 0.140872\n",
            "train accuracy: 99.04306220095694 %\n",
            "test accuracy: 70.0 %\n"
          ],
          "name": "stdout"
        }
      ]
    },
    {
      "cell_type": "markdown",
      "metadata": {
        "id": "dFqXK5-1Hxt6",
        "colab_type": "text"
      },
      "source": [
        "**Expected Output**: \n",
        "\n",
        "Cost after iteration 0 0.693147 \n",
        "\n",
        "Train Accuracy  99.04306220095694 \n",
        "\n",
        "Test Accuracy 70.0 \n",
        "\n",
        "\n",
        "\n"
      ]
    },
    {
      "cell_type": "markdown",
      "metadata": {
        "id": "LUSLmkCFHxt6",
        "colab_type": "text"
      },
      "source": [
        "**Comment**: Training accuracy is close to 100%. This is a good sanity check: your model is working and has high enough capacity to fit the training data. Test accuracy is 68%. It is actually not bad for this simple model, given the small dataset we used and that logistic regression is a linear classifier. But no worries, you'll build an even better classifier next week!\n",
        "\n",
        "Also, you see that the model is clearly overfitting the training data. Later in this specialization you will learn how to reduce overfitting, for example by using regularization."
      ]
    },
    {
      "cell_type": "markdown",
      "metadata": {
        "id": "GbtBROzsHxt7",
        "colab_type": "text"
      },
      "source": [
        "Let's also plot the cost function and the gradients."
      ]
    },
    {
      "cell_type": "code",
      "metadata": {
        "id": "A_mbR0blHxt8",
        "colab_type": "code",
        "colab": {
          "base_uri": "https://localhost:8080/",
          "height": 295
        },
        "outputId": "53096bcd-5285-4dca-8928-6e12479d74f3"
      },
      "source": [
        "# Plot learning curve (with costs)\n",
        "costs = np.squeeze(d['costs'])\n",
        "plt.plot(costs)\n",
        "plt.ylabel('cost')\n",
        "plt.xlabel('iterations (per hundreds)')\n",
        "plt.title(\"Learning rate =\" + str(d[\"learning_rate\"]))\n",
        "plt.show()"
      ],
      "execution_count": 77,
      "outputs": [
        {
          "output_type": "display_data",
          "data": {
            "image/png": "[encoded data removed]",
            "text/plain": [
              "<Figure size 432x288 with 1 Axes>"
            ]
          },
          "metadata": {
            "tags": [],
            "needs_background": "light"
          }
        }
      ]
    },
    {
      "cell_type": "markdown",
      "metadata": {
        "id": "cwzX6hOIHxuA",
        "colab_type": "text"
      },
      "source": [
        "**Interpretation**:\n",
        "You can see the cost decreasing. It shows that the parameters are being learned. However, you see that you could train the model even more on the training set. Try to increase the number of iterations in the cell above and rerun the cells. You might see that the training set accuracy goes up, but the test set accuracy goes down. This is called overfitting. "
      ]
    },
    {
      "cell_type": "markdown",
      "metadata": {
        "id": "TNKeiDNIHxuC",
        "colab_type": "text"
      },
      "source": [
        "## 6 - Further analysis (optional/ungraded exercise) ##\n",
        "\n",
        "Congratulations on building your first image classification model. Let's analyze it further, and examine possible choices for the learning rate $\\alpha$. "
      ]
    },
    {
      "cell_type": "markdown",
      "metadata": {
        "id": "rBU8PBmEHxuC",
        "colab_type": "text"
      },
      "source": [
        "#### Choice of learning rate ####\n",
        "\n",
        "**Reminder**:\n",
        "In order for Gradient Descent to work you must choose the learning rate wisely. The learning rate $\\alpha$  determines how rapidly we update the parameters. If the learning rate is too large we may \"overshoot\" the optimal value. Similarly, if it is too small we will need too many iterations to converge to the best values. That's why it is crucial to use a well-tuned learning rate.\n",
        "\n",
        "Let's compare the learning curve of our model with several choices of learning rates. Run the cell below. This should take about 1 minute. Feel free also to try different values than the three we have initialized the `learning_rates` variable to contain, and see what happens. "
      ]
    },
    {
      "cell_type": "code",
      "metadata": {
        "id": "grne4ru7HxuD",
        "colab_type": "code",
        "colab": {
          "base_uri": "https://localhost:8080/",
          "height": 606
        },
        "outputId": "5bdafed5-57e3-45b3-a012-d7807d09a06b"
      },
      "source": [
        "learning_rates = [0.01, 0.001, 0.0001]\n",
        "models = {}\n",
        "for i in learning_rates:\n",
        "    print (\"learning rate is: \" + str(i))\n",
        "    models[str(i)] = model(train_set_x, train_set_y, test_set_x, test_set_y, num_iterations = 1500, learning_rate = i, print_cost = False)\n",
        "    print ('\\n' + \"-------------------------------------------------------\" + '\\n')\n",
        "\n",
        "for i in learning_rates:\n",
        "    plt.plot(np.squeeze(models[str(i)][\"costs\"]), label= str(models[str(i)][\"learning_rate\"]))\n",
        "\n",
        "plt.ylabel('cost')\n",
        "plt.xlabel('iterations (hundreds)')\n",
        "\n",
        "legend = plt.legend(loc='upper center', shadow=True)\n",
        "frame = legend.get_frame()\n",
        "frame.set_facecolor('0.90')\n",
        "plt.show()"
      ],
      "execution_count": 78,
      "outputs": [
        {
          "output_type": "stream",
          "text": [
            "learning rate is: 0.01\n",
            "train accuracy: 99.52153110047847 %\n",
            "test accuracy: 68.0 %\n",
            "\n",
            "-------------------------------------------------------\n",
            "\n",
            "learning rate is: 0.001\n",
            "train accuracy: 88.99521531100478 %\n",
            "test accuracy: 64.0 %\n",
            "\n",
            "-------------------------------------------------------\n",
            "\n",
            "learning rate is: 0.0001\n",
            "train accuracy: 68.42105263157895 %\n",
            "test accuracy: 36.0 %\n",
            "\n",
            "-------------------------------------------------------\n",
            "\n"
          ],
          "name": "stdout"
        },
        {
          "output_type": "display_data",
          "data": {
            "image/png": "[encoded data removed]",
            "text/plain": [
              "<Figure size 432x288 with 1 Axes>"
            ]
          },
          "metadata": {
            "tags": [],
            "needs_background": "light"
          }
        }
      ]
    },
    {
      "cell_type": "markdown",
      "metadata": {
        "id": "4wiSzZLGHxuH",
        "colab_type": "text"
      },
      "source": [
        "**Interpretation**: \n",
        "- Different learning rates give different costs and thus different predictions results.\n",
        "- If the learning rate is too large (0.01), the cost may oscillate up and down. It may even diverge (though in this example, using 0.01 still eventually ends up at a good value for the cost). \n",
        "- A lower cost doesn't mean a better model. You have to check if there is possibly overfitting. It happens when the training accuracy is a lot higher than the test accuracy.\n",
        "- In deep learning, we usually recommend that you: \n",
        "    - Choose the learning rate that better minimizes the cost function.\n",
        "    - If your model overfits, use other techniques to reduce overfitting. "
      ]
    },
    {
      "cell_type": "markdown",
      "metadata": {
        "id": "7IH02fWNHxuI",
        "colab_type": "text"
      },
      "source": [
        "## 7 - Test with your own image (optional/ungraded exercise) ##\n",
        "\n",
        "Congratulations on finishing this assignment. You can use your own image and see the output of your model. To do that:\n",
        "    1. Click on \"File\" in the upper bar of this notebook, then click \"Open\" to go on your Coursera Hub.\n",
        "    2. Add your image to this Jupyter Notebook's directory, in the \"images\" folder\n",
        "    3. Change your image's name in the following code\n",
        "    4. Run the code and check if the algorithm is right (1 = cat, 0 = non-cat)!"
      ]
    },
    {
      "cell_type": "code",
      "metadata": {
        "scrolled": false,
        "id": "2X7x6oZmHxuI",
        "colab_type": "code",
        "colab": {
          "base_uri": "https://localhost:8080/",
          "height": 415
        },
        "outputId": "7b361040-fe5d-4c58-a49a-effa5b31ca8f"
      },
      "source": [
        "## START CODE HERE ## (PUT YOUR IMAGE NAME) \n",
        "\n",
        "!pip3 install pillow\n",
        "!pip install scipy==1.1.0\n",
        "from scipy.misc.pilutil import imread\n",
        "import PIL\n",
        "from scipy.misc import toimage\n",
        "my_image = \"my_image.jpg\"   # change this to the name of your image file \n",
        "## END CODE HERE ##\n",
        "\n",
        "# We preprocess the image to fit your algorithm.\n",
        "fname = \"images/\" + my_image\n",
        "#image = np.array(ndimage.imread(fname, flatten=False))\n",
        "image = image/255.\n",
        "my_image = scipy.misc.imresize(image, size=(num_px,num_px)).reshape((1, num_px*num_px*3)).T\n",
        "my_predicted_image = predict(d[\"w\"], d[\"b\"], my_image)\n",
        "\n",
        "plt.imshow(image)\n",
        "print(\"y = \" + str(np.squeeze(my_predicted_image)) + \", your algorithm predicts a \\\"\" + classes[int(np.squeeze(my_predicted_image)),].decode(\"utf-8\") +  \"\\\" picture.\")"
      ],
      "execution_count": 91,
      "outputs": [
        {
          "output_type": "stream",
          "text": [
            "Requirement already satisfied: pillow in /usr/local/lib/python3.6/dist-packages (7.0.0)\n",
            "Requirement already satisfied: scipy==1.1.0 in /usr/local/lib/python3.6/dist-packages (1.1.0)\n",
            "Requirement already satisfied: numpy>=1.8.2 in /usr/local/lib/python3.6/dist-packages (from scipy==1.1.0) (1.18.5)\n"
          ],
          "name": "stdout"
        },
        {
          "output_type": "stream",
          "text": [
            "/usr/local/lib/python3.6/dist-packages/ipykernel_launcher.py:15: DeprecationWarning: `imresize` is deprecated!\n",
            "`imresize` is deprecated in SciPy 1.0.0, and will be removed in 1.2.0.\n",
            "Use ``skimage.transform.resize`` instead.\n",
            "  from ipykernel import kernelapp as app\n"
          ],
          "name": "stderr"
        },
        {
          "output_type": "stream",
          "text": [
            "y = 0.0, your algorithm predicts a \"non-cat\" picture.\n"
          ],
          "name": "stdout"
        },
        {
          "output_type": "display_data",
          "data": {
            "image/png": "[encoded data removed]",
            "text/plain": [
              "<Figure size 432x288 with 1 Axes>"
            ]
          },
          "metadata": {
            "tags": [],
            "needs_background": "light"
          }
        }
      ]
    },
    {
      "cell_type": "markdown",
      "metadata": {
        "id": "DPtLsWOIHxuM",
        "colab_type": "text"
      },
      "source": [
        "<font color='blue'>\n",
        "**What to remember from this assignment:**\n",
        "1. Preprocessing the dataset is important.\n",
        "2. You implemented each function separately: initialize(), propagate(), optimize(). Then you built a model().\n",
        "3. Tuning the learning rate (which is an example of a \"hyperparameter\") can make a big difference to the algorithm. You will see more examples of this later in this course!"
      ]
    },
    {
      "cell_type": "markdown",
      "metadata": {
        "id": "bv1dqY9xHxuN",
        "colab_type": "text"
      },
      "source": [
        "Finally, if you'd like, we invite you to try different things on this Notebook. Make sure you submit before trying anything. Once you submit, things you can play with include:\n",
        "    - Play with the learning rate and the number of iterations\n",
        "    - Try different initialization methods and compare the results\n",
        "    - Test other preprocessings (center the data, or divide each row by its standard deviation)"
      ]
    },
    {
      "cell_type": "markdown",
      "metadata": {
        "id": "1q7t6_H8HxuN",
        "colab_type": "text"
      },
      "source": [
        "Bibliography:\n",
        "- http://www.wildml.com/2015/09/implementing-a-neural-network-from-scratch/\n",
        "- https://stats.stackexchange.com/questions/211436/why-do-we-normalize-images-by-subtracting-the-datasets-image-mean-and-not-the-c"
      ]
    }
  ]
}