{
  "nbformat": 4,
  "nbformat_minor": 0,
  "metadata": {
    "coursera": {
      "course_slug": "deep-neural-network",
      "graded_item_id": "XOESP",
      "launcher_item_id": "8IhFN"
    },
    "kernelspec": {
      "display_name": "Python 3",
      "language": "python",
      "name": "python3"
    },
    "language_info": {
      "codemirror_mode": {
        "name": "ipython",
        "version": 3
      },
      "file_extension": ".py",
      "mimetype": "text/x-python",
      "name": "python",
      "nbconvert_exporter": "python",
      "pygments_lexer": "ipython3",
      "version": "3.6.0"
    },
    "colab": {
      "name": "Copy of Initialization1.ipynb",
      "provenance": [],
      "collapsed_sections": [],
      "include_colab_link": true
    }
  },
  "cells": [
    {
      "cell_type": "markdown",
      "metadata": {
        "id": "view-in-github",
        "colab_type": "text"
      },
      "source": [
        "<a href=\"https://colab.research.google.com/github/minakshi221283/LAB1/blob/master/practiceInitialization1.ipynb\" target=\"_parent\"><img src=\"https://colab.research.google.com/assets/colab-badge.svg\" alt=\"Open In Colab\"/></a>"
      ]
    },
    {
      "cell_type": "markdown",
      "metadata": {
        "id": "XrVFpdSnPRPT"
      },
      "source": [
        "# Initialization\n",
        "\n",
        "Welcome to the first assignment of \"Improving Deep Neural Networks\". \n",
        "\n",
        "Training your neural network requires specifying an initial value of the weights. A well chosen initialization method will help learning.  \n",
        "\n",
        "If you completed the previous course of this specialization, you probably followed our instructions for weight initialization, and it has worked out so far. But how do you choose the initialization for a new neural network? In this notebook, you will see how different initializations lead to different results. \n",
        "\n",
        "A well chosen initialization can:\n",
        "- Speed up the convergence of gradient descent\n",
        "- Increase the odds of gradient descent converging to a lower training (and generalization) error \n",
        "\n",
        "To get started, run the following cell to load the packages and the planar dataset you will try to classify."
      ]
    },
    {
      "cell_type": "code",
      "metadata": {
        "id": "t00GpUt4PRPV",
        "outputId": "b1595f04-c425-4646-8d68-4a135c267e80",
        "colab": {
          "base_uri": "https://localhost:8080/",
          "height": 69
        }
      },
      "source": [
        "import numpy as np\n",
        "import matplotlib.pyplot as plt\n",
        "import sklearn\n",
        "import sklearn.datasets\n",
        "from init_utils import sigmoid, relu, compute_loss, forward_propagation, backward_propagation\n",
        "from init_utils import update_parameters, predict, load_dataset, plot_decision_boundary, predict_dec\n",
        "from sklearn.model_selection import train_test_split\n",
        "\n",
        "%matplotlib inline\n",
        "plt.rcParams['figure.figsize'] = (7.0, 4.0) # set default size of plots\n",
        "plt.rcParams['image.interpolation'] = 'nearest'\n",
        "plt.rcParams['image.cmap'] = 'gray'\n",
        "\n",
        "# load image dataset: blue/red dots in circles\n",
        "#train_X, train_Y, test_X, test_Y = load_dataset()\n",
        "X=np.array([[1.5,2,3.3,4,5,6,4.5,7.9,2.3,5.7],[3,5,6.4,7,1,4,1.7,7.2,4.9,5.6]])\n",
        "Y=np.array([[0,1,0,1,0,1,0,1,0,1]])\n",
        "print(X[0:])\n",
        "print(X.shape[1])"
      ],
      "execution_count": 1,
      "outputs": [
        {
          "output_type": "stream",
          "text": [
            "[[1.5 2.  3.3 4.  5.  6.  4.5 7.9 2.3 5.7]\n",
            " [3.  5.  6.4 7.  1.  4.  1.7 7.2 4.9 5.6]]\n",
            "10\n"
          ],
          "name": "stdout"
        }
      ]
    },
    {
      "cell_type": "code",
      "metadata": {
        "id": "Pbd_LQ57JF77",
        "outputId": "42308a2d-6716-48a1-82cd-d78510318230",
        "colab": {
          "base_uri": "https://localhost:8080/",
          "height": 265
        }
      },
      "source": [
        "plt.scatter(X[0, :], X[1, :], c=Y, s=40, cmap=plt.cm.Spectral);\n",
        "plt.show()"
      ],
      "execution_count": 2,
      "outputs": [
        {
          "output_type": "display_data",
          "data": {
            "image/png": "[encoded data removed]",
            "text/plain": [
              "<Figure size 432x288 with 1 Axes>"
            ]
          },
          "metadata": {
            "tags": [],
            "needs_background": "light"
          }
        }
      ]
    },
    {
      "cell_type": "code",
      "metadata": {
        "id": "121KZf5Pg29W",
        "outputId": "dde10ddc-1aa3-4129-92e1-a9eea7898c41",
        "colab": {
          "base_uri": "https://localhost:8080/",
          "height": 86
        }
      },
      "source": [
        "train_X=X[ 0:2 , 0:8]\n",
        "print(train_X)\n",
        "train_Y=Y[ 0:2 , 0:8]\n",
        "test_X=X[ 0:2 , 8:10]\n",
        "print(test_X)\n",
        "test_Y=Y[ 0:2 , 8:10]"
      ],
      "execution_count": 3,
      "outputs": [
        {
          "output_type": "stream",
          "text": [
            "[[1.5 2.  3.3 4.  5.  6.  4.5 7.9]\n",
            " [3.  5.  6.4 7.  1.  4.  1.7 7.2]]\n",
            "[[2.3 5.7]\n",
            " [4.9 5.6]]\n"
          ],
          "name": "stdout"
        }
      ]
    },
    {
      "cell_type": "markdown",
      "metadata": {
        "id": "YIjmPU_xPRPd"
      },
      "source": [
        "You would like a classifier to separate the blue dots from the red dots."
      ]
    },
    {
      "cell_type": "markdown",
      "metadata": {
        "id": "LhXV5Eo7PRPe"
      },
      "source": [
        "## 1 - Neural Network model "
      ]
    },
    {
      "cell_type": "markdown",
      "metadata": {
        "id": "wuhG0JnePRPf"
      },
      "source": [
        "You will use a 3-layer neural network (already implemented for you). Here are the initialization methods you will experiment with:  \n",
        "- *Zeros initialization* --  setting `initialization = \"zeros\"` in the input argument.\n",
        "- *Random initialization* -- setting `initialization = \"random\"` in the input argument. This initializes the weights to large random values.  \n",
        "- *He initialization* -- setting `initialization = \"he\"` in the input argument. This initializes the weights to random values scaled according to a paper by He et al., 2015. \n",
        "\n",
        "**Instructions**: Please quickly read over the code below, and run it. In the next part you will implement the three initialization methods that this `model()` calls."
      ]
    },
    {
      "cell_type": "code",
      "metadata": {
        "id": "ft1kbjLCPRPh"
      },
      "source": [
        "def model(X, Y, learning_rate = 0.01, num_iterations = 15000, print_cost = True, initialization = \"he\"):\n",
        "    \"\"\"\n",
        "    Implements a three-layer neural network: LINEAR->RELU->LINEAR->RELU->LINEAR->SIGMOID.\n",
        "    \n",
        "    Arguments:\n",
        "    X -- input data, of shape (2, number of examples)\n",
        "    Y -- true \"label\" vector (containing 0 for red dots; 1 for blue dots), of shape (1, number of examples)\n",
        "    learning_rate -- learning rate for gradient descent \n",
        "    num_iterations -- number of iterations to run gradient descent\n",
        "    print_cost -- if True, print the cost every 1000 iterations\n",
        "    initialization -- flag to choose which initialization to use (\"zeros\",\"random\" or \"he\")\n",
        "    \n",
        "    Returns:\n",
        "    parameters -- parameters learnt by the model\n",
        "    \"\"\"\n",
        "        \n",
        "    grads = {}\n",
        "    costs = [] # to keep track of the loss\n",
        "    m = X.shape[1] # number of examples\n",
        "    layers_dims = [X.shape[0], 3, 3, 1]\n",
        "    \n",
        "    # Initialize parameters dictionary.\n",
        "    if initialization == \"zeros\":\n",
        "        parameters = initialize_parameters_zeros(layers_dims)\n",
        "    elif initialization == \"random\":\n",
        "        parameters = initialize_parameters_random(layers_dims)\n",
        "    elif initialization == \"he\":\n",
        "        parameters = initialize_parameters_he(layers_dims)\n",
        "\n",
        "    # Loop (gradient descent)\n",
        "\n",
        "    for i in range(0, num_iterations):\n",
        "\n",
        "        # Forward propagation: LINEAR -> RELU -> LINEAR -> RELU -> LINEAR -> SIGMOID.\n",
        "        a3, cache = forward_propagation(X, parameters)\n",
        "        \n",
        "        # Loss\n",
        "        cost = compute_loss(a3, Y)\n",
        "\n",
        "        # Backward propagation.\n",
        "        grads = backward_propagation(X, Y, cache)\n",
        "        \n",
        "        # Update parameters.\n",
        "        parameters = update_parameters(parameters, grads, learning_rate)\n",
        "        \n",
        "        # Print the loss every 1000 iterations\n",
        "        if print_cost and i % 1000 == 0:\n",
        "            print(\"Cost after iteration {}: {}\".format(i, cost))\n",
        "            costs.append(cost)\n",
        "            \n",
        "    # plot the loss\n",
        "    plt.plot(costs)\n",
        "    plt.ylabel('cost')\n",
        "    plt.xlabel('iterations (per hundreds)')\n",
        "    plt.title(\"Learning rate =\" + str(learning_rate))\n",
        "    plt.show()\n",
        "    \n",
        "    return parameters"
      ],
      "execution_count": 4,
      "outputs": []
    },
    {
      "cell_type": "markdown",
      "metadata": {
        "id": "xKB2umVnPRPn"
      },
      "source": [
        "## 2 - Zero initialization\n",
        "\n",
        "There are two types of parameters to initialize in a neural network:\n",
        "- the weight matrices $(W^{[1]}, W^{[2]}, W^{[3]}, ..., W^{[L-1]}, W^{[L]})$\n",
        "- the bias vectors $(b^{[1]}, b^{[2]}, b^{[3]}, ..., b^{[L-1]}, b^{[L]})$\n",
        "\n",
        "**Exercise**: Implement the following function to initialize all parameters to zeros. You'll see later that this does not work well since it fails to \"break symmetry\", but lets try it anyway and see what happens. Use np.zeros((..,..)) with the correct shapes."
      ]
    },
    {
      "cell_type": "code",
      "metadata": {
        "id": "Rl9zf_ogPRPp"
      },
      "source": [
        "# GRADED FUNCTION: initialize_parameters_zeros \n",
        "\n",
        "def initialize_parameters_zeros(layers_dims):\n",
        "    \"\"\"\n",
        "    Arguments:\n",
        "    layer_dims -- python array (list) containing the size of each layer.\n",
        "    \n",
        "    Returns:\n",
        "    parameters -- python dictionary containing your parameters \"W1\", \"b1\", ..., \"WL\", \"bL\":\n",
        "                    W1 -- weight matrix of shape (layers_dims[1], layers_dims[0])\n",
        "                    b1 -- bias vector of shape (layers_dims[1], 1)\n",
        "                    ...\n",
        "                    WL -- weight matrix of shape (layers_dims[L], layers_dims[L-1])\n",
        "                    bL -- bias vector of shape (layers_dims[L], 1)\n",
        "    \"\"\"\n",
        "    \n",
        "    parameters = {}\n",
        "    L = len(layers_dims)            # number of layers in the network\n",
        "    \n",
        "    for l in range(1, L):\n",
        "        ### START CODE HERE ### (≈ 2 lines of code)\n",
        "        parameters['W' + str(l)] = np.zeros((layers_dims[l], layers_dims[l-1]))\n",
        "        parameters['b' + str(l)] = np.zeros((layers_dims[l], 1))\n",
        "        ### END CODE HERE ###\n",
        "    return parameters"
      ],
      "execution_count": 5,
      "outputs": []
    },
    {
      "cell_type": "code",
      "metadata": {
        "id": "fVXqviOKPRPx",
        "outputId": "cb765a87-2e5f-411a-b1a4-9a7669378122",
        "colab": {
          "base_uri": "https://localhost:8080/",
          "height": 156
        }
      },
      "source": [
        "parameters = initialize_parameters_zeros([3,3,1])\n",
        "print(\"W1 = \" + str(parameters[\"W1\"]))\n",
        "print(\"b1 = \" + str(parameters[\"b1\"]))\n",
        "print(\"W2 = \" + str(parameters[\"W2\"]))\n",
        "print(\"b2 = \" + str(parameters[\"b2\"]))"
      ],
      "execution_count": 6,
      "outputs": [
        {
          "output_type": "stream",
          "text": [
            "W1 = [[0. 0. 0.]\n",
            " [0. 0. 0.]\n",
            " [0. 0. 0.]]\n",
            "b1 = [[0.]\n",
            " [0.]\n",
            " [0.]]\n",
            "W2 = [[0. 0. 0.]]\n",
            "b2 = [[0.]]\n"
          ],
          "name": "stdout"
        }
      ]
    },
    {
      "cell_type": "markdown",
      "metadata": {
        "id": "x7nDOcIkPRP2"
      },
      "source": [
        "**Expected Output**:\n",
        "\n",
        "<table> \n",
        "    <tr>\n",
        "    <td>\n",
        "    **W1**\n",
        "    </td>\n",
        "        <td>\n",
        "    [[ 0.  0.  0.]\n",
        " [ 0.  0.  0.]]\n",
        "    </td>\n",
        "    </tr>\n",
        "    <tr>\n",
        "    <td>\n",
        "    **b1**\n",
        "    </td>\n",
        "        <td>\n",
        "    [[ 0.]\n",
        " [ 0.]]\n",
        "    </td>\n",
        "    </tr>\n",
        "    <tr>\n",
        "    <td>\n",
        "    **W2**\n",
        "    </td>\n",
        "        <td>\n",
        "    [[ 0.  0.]]\n",
        "    </td>\n",
        "    </tr>\n",
        "    <tr>\n",
        "    <td>\n",
        "    **b2**\n",
        "    </td>\n",
        "        <td>\n",
        "    [[ 0.]]\n",
        "    </td>\n",
        "    </tr>\n",
        "\n",
        "</table> "
      ]
    },
    {
      "cell_type": "markdown",
      "metadata": {
        "id": "Eo17qYjXPRP3"
      },
      "source": [
        "Run the following code to train your model on 15,000 iterations using zeros initialization."
      ]
    },
    {
      "cell_type": "code",
      "metadata": {
        "scrolled": false,
        "id": "uQKS-RsTPRP4",
        "outputId": "65449fa4-c466-4a13-f69b-641d2a2c1010",
        "colab": {
          "base_uri": "https://localhost:8080/",
          "height": 624
        }
      },
      "source": [
        "parameters = model(train_X, train_Y, initialization = \"zeros\")\n",
        "print (\"On the train set:\")\n",
        "predictions_train = predict(train_X, train_Y, parameters)\n",
        "print (\"On the test set:\")\n",
        "predictions_test = predict(test_X, test_Y, parameters)"
      ],
      "execution_count": 7,
      "outputs": [
        {
          "output_type": "stream",
          "text": [
            "Cost after iteration 0: 0.6931471805599453\n",
            "Cost after iteration 1000: 0.6931471805599453\n",
            "Cost after iteration 2000: 0.6931471805599453\n",
            "Cost after iteration 3000: 0.6931471805599453\n",
            "Cost after iteration 4000: 0.6931471805599453\n",
            "Cost after iteration 5000: 0.6931471805599453\n",
            "Cost after iteration 6000: 0.6931471805599453\n",
            "Cost after iteration 7000: 0.6931471805599453\n",
            "Cost after iteration 8000: 0.6931471805599453\n",
            "Cost after iteration 9000: 0.6931471805599453\n",
            "Cost after iteration 10000: 0.6931471805599453\n",
            "Cost after iteration 11000: 0.6931471805599453\n",
            "Cost after iteration 12000: 0.6931471805599453\n",
            "Cost after iteration 13000: 0.6931471805599453\n",
            "Cost after iteration 14000: 0.6931471805599453\n"
          ],
          "name": "stdout"
        },
        {
          "output_type": "display_data",
          "data": {
            "image/png": "[encoded data removed]",
            "text/plain": [
              "<Figure size 432x288 with 1 Axes>"
            ]
          },
          "metadata": {
            "tags": [],
            "needs_background": "light"
          }
        },
        {
          "output_type": "stream",
          "text": [
            "On the train set:\n",
            "Accuracy: 0.5\n",
            "On the test set:\n",
            "Accuracy: 0.5\n"
          ],
          "name": "stdout"
        }
      ]
    },
    {
      "cell_type": "markdown",
      "metadata": {
        "id": "7GTNajU8PRP8"
      },
      "source": [
        "The performance is really bad, and the cost does not really decrease, and the algorithm performs no better than random guessing. Why? Lets look at the details of the predictions and the decision boundary:"
      ]
    },
    {
      "cell_type": "code",
      "metadata": {
        "id": "8gNBsl-BPRP9",
        "outputId": "714f7f02-68a1-4014-b57e-80177208bbbf",
        "colab": {
          "base_uri": "https://localhost:8080/",
          "height": 52
        }
      },
      "source": [
        "print (\"predictions_train = \" + str(predictions_train))\n",
        "print (\"predictions_test = \" + str(predictions_test))"
      ],
      "execution_count": 8,
      "outputs": [
        {
          "output_type": "stream",
          "text": [
            "predictions_train = [[0 0 0 0 0 0 0 0]]\n",
            "predictions_test = [[0 0]]\n"
          ],
          "name": "stdout"
        }
      ]
    },
    {
      "cell_type": "code",
      "metadata": {
        "id": "U0HSIAvMPRQD",
        "outputId": "a919ce57-bb47-45d6-ab6d-bc9b76eb4fcc",
        "colab": {
          "base_uri": "https://localhost:8080/",
          "height": 294
        }
      },
      "source": [
        "plt.title(\"Model with Zeros initialization\")\n",
        "axes = plt.gca()\n",
        "axes.set_xlim([1,10])\n",
        "axes.set_ylim([0,10])\n",
        "plot_decision_boundary(lambda x: predict_dec(parameters, x.T), train_X, train_Y)"
      ],
      "execution_count": 9,
      "outputs": [
        {
          "output_type": "display_data",
          "data": {
            "image/png": "[encoded data removed]",
            "text/plain": [
              "<Figure size 432x288 with 1 Axes>"
            ]
          },
          "metadata": {
            "tags": [],
            "needs_background": "light"
          }
        }
      ]
    },
    {
      "cell_type": "markdown",
      "metadata": {
        "id": "_ZqAm3cOPRQH"
      },
      "source": [
        "The model is predicting 0 for every example. \n",
        "\n",
        "In general, initializing all the weights to zero results in the network failing to break symmetry. This means that every neuron in each layer will learn the same thing, and you might as well be training a neural network with $n^{[l]}=1$ for every layer, and the network is no more powerful than a linear classifier such as logistic regression. "
      ]
    },
    {
      "cell_type": "markdown",
      "metadata": {
        "id": "nTHz07nbPRQH"
      },
      "source": [
        "<font color='blue'>\n",
        "**What you should remember**:\n",
        "- The weights $W^{[l]}$ should be initialized randomly to break symmetry. \n",
        "- It is however okay to initialize the biases $b^{[l]}$ to zeros. Symmetry is still broken so long as $W^{[l]}$ is initialized randomly. \n"
      ]
    },
    {
      "cell_type": "markdown",
      "metadata": {
        "id": "qCIczgG2PRQI"
      },
      "source": [
        "## 3 - Random initialization\n",
        "\n",
        "To break symmetry, lets intialize the weights randomly. Following random initialization, each neuron can then proceed to learn a different function of its inputs. In this exercise, you will see what happens if the weights are intialized randomly, but to very large values. \n",
        "\n",
        "**Exercise**: Implement the following function to initialize your weights to large random values (scaled by \\*10) and your biases to zeros. Use `np.random.randn(..,..) * 10` for weights and `np.zeros((.., ..))` for biases. We are using a fixed `np.random.seed(..)` to make sure your \"random\" weights  match ours, so don't worry if running several times your code gives you always the same initial values for the parameters. "
      ]
    },
    {
      "cell_type": "code",
      "metadata": {
        "id": "fSOsnD4pPRQJ"
      },
      "source": [
        "# GRADED FUNCTION: initialize_parameters_random\n",
        "\n",
        "def initialize_parameters_random(layers_dims):\n",
        "    \"\"\"\n",
        "    Arguments:\n",
        "    layer_dims -- python array (list) containing the size of each layer.\n",
        "    \n",
        "    Returns:\n",
        "    parameters -- python dictionary containing your parameters \"W1\", \"b1\", ..., \"WL\", \"bL\":\n",
        "                    W1 -- weight matrix of shape (layers_dims[1], layers_dims[0])\n",
        "                    b1 -- bias vector of shape (layers_dims[1], 1)\n",
        "                    ...\n",
        "                    WL -- weight matrix of shape (layers_dims[L], layers_dims[L-1])\n",
        "                    bL -- bias vector of shape (layers_dims[L], 1)\n",
        "    \"\"\"\n",
        "    \n",
        "    np.random.seed(3)               # This seed makes sure your \"random\" numbers will be the as ours\n",
        "    parameters = {}\n",
        "    L = len(layers_dims)            # integer representing the number of layers\n",
        "    \n",
        "    for l in range(1, L):\n",
        "        ### START CODE HERE ### (≈ 2 lines of code)\n",
        "        parameters['W' + str(l)] = np.random.randn(layers_dims[l], layers_dims[l-1]) * 10\n",
        "        parameters['b' + str(l)] = np.zeros((layers_dims[l], 1))\n",
        "        ### END CODE HERE ###\n",
        "\n",
        "    return parameters"
      ],
      "execution_count": 10,
      "outputs": []
    },
    {
      "cell_type": "code",
      "metadata": {
        "id": "qq2nzeIGPRQN",
        "outputId": "a172fcdc-6165-41f6-dfcf-c9af7bf0be10",
        "colab": {
          "base_uri": "https://localhost:8080/",
          "height": 156
        }
      },
      "source": [
        "parameters = initialize_parameters_random([3, 3, 1])\n",
        "print(\"W1 = \" + str(parameters[\"W1\"]))\n",
        "print(\"b1 = \" + str(parameters[\"b1\"]))\n",
        "print(\"W2 = \" + str(parameters[\"W2\"]))\n",
        "print(\"b2 = \" + str(parameters[\"b2\"]))"
      ],
      "execution_count": 11,
      "outputs": [
        {
          "output_type": "stream",
          "text": [
            "W1 = [[ 17.88628473   4.36509851   0.96497468]\n",
            " [-18.63492703  -2.77388203  -3.54758979]\n",
            " [ -0.82741481  -6.27000677  -0.43818169]]\n",
            "b1 = [[0.]\n",
            " [0.]\n",
            " [0.]]\n",
            "W2 = [[ -4.7721803  -13.13864753   8.8462238 ]]\n",
            "b2 = [[0.]]\n"
          ],
          "name": "stdout"
        }
      ]
    },
    {
      "cell_type": "markdown",
      "metadata": {
        "id": "OtvJ9aRmPRQS"
      },
      "source": [
        "**Expected Output**:\n",
        "\n",
        "<table> \n",
        "    <tr>\n",
        "    <td>\n",
        "    **W1**\n",
        "    </td>\n",
        "        <td>\n",
        "    [[ 17.88628473   4.36509851   0.96497468]\n",
        " [-18.63492703  -2.77388203  -3.54758979]]\n",
        "    </td>\n",
        "    </tr>\n",
        "    <tr>\n",
        "    <td>\n",
        "    **b1**\n",
        "    </td>\n",
        "        <td>\n",
        "    [[ 0.]\n",
        " [ 0.]]\n",
        "    </td>\n",
        "    </tr>\n",
        "    <tr>\n",
        "    <td>\n",
        "    **W2**\n",
        "    </td>\n",
        "        <td>\n",
        "    [[-0.82741481 -6.27000677]]\n",
        "    </td>\n",
        "    </tr>\n",
        "    <tr>\n",
        "    <td>\n",
        "    **b2**\n",
        "    </td>\n",
        "        <td>\n",
        "    [[ 0.]]\n",
        "    </td>\n",
        "    </tr>\n",
        "\n",
        "</table> "
      ]
    },
    {
      "cell_type": "markdown",
      "metadata": {
        "id": "RVuR7Ez0PRQT"
      },
      "source": [
        "Run the following code to train your model on 15,000 iterations using random initialization."
      ]
    },
    {
      "cell_type": "code",
      "metadata": {
        "scrolled": false,
        "id": "TbOU3EN3PRQU",
        "outputId": "e1597f7e-f50b-4075-c25f-6e371a776640",
        "colab": {
          "base_uri": "https://localhost:8080/",
          "height": 728
        }
      },
      "source": [
        "parameters = model(train_X, train_Y, initialization = \"random\")\n",
        "print (\"On the train set:\")\n",
        "predictions_train = predict(train_X, train_Y, parameters)\n",
        "print (\"On the test set:\")\n",
        "predictions_test = predict(test_X, test_Y, parameters)"
      ],
      "execution_count": 12,
      "outputs": [
        {
          "output_type": "stream",
          "text": [
            "Cost after iteration 0: inf\n",
            "Cost after iteration 1000: 0.6931472015896818\n"
          ],
          "name": "stdout"
        },
        {
          "output_type": "stream",
          "text": [
            "/content/init_utils.py:17: RuntimeWarning: overflow encountered in exp\n",
            "  s = 1/(1+np.exp(-x))\n",
            "/content/init_utils.py:145: RuntimeWarning: divide by zero encountered in log\n",
            "  logprobs = np.multiply(-np.log(a3),Y) + np.multiply(-np.log(1 - a3), 1 - Y)\n",
            "/content/init_utils.py:145: RuntimeWarning: invalid value encountered in multiply\n",
            "  logprobs = np.multiply(-np.log(a3),Y) + np.multiply(-np.log(1 - a3), 1 - Y)\n"
          ],
          "name": "stderr"
        },
        {
          "output_type": "stream",
          "text": [
            "Cost after iteration 2000: 0.6931471807007583\n",
            "Cost after iteration 3000: 0.6931471805608882\n",
            "Cost after iteration 4000: 0.6931471805599516\n",
            "Cost after iteration 5000: 0.6931471805599454\n",
            "Cost after iteration 6000: 0.6931471805599453\n",
            "Cost after iteration 7000: 0.6931471805599453\n",
            "Cost after iteration 8000: 0.6931471805599453\n",
            "Cost after iteration 9000: 0.6931471805599453\n",
            "Cost after iteration 10000: 0.6931471805599453\n",
            "Cost after iteration 11000: 0.6931471805599453\n",
            "Cost after iteration 12000: 0.6931471805599453\n",
            "Cost after iteration 13000: 0.6931471805599453\n",
            "Cost after iteration 14000: 0.6931471805599453\n"
          ],
          "name": "stdout"
        },
        {
          "output_type": "display_data",
          "data": {
            "image/png": "[encoded data removed]",
            "text/plain": [
              "<Figure size 432x288 with 1 Axes>"
            ]
          },
          "metadata": {
            "tags": [],
            "needs_background": "light"
          }
        },
        {
          "output_type": "stream",
          "text": [
            "On the train set:\n",
            "Accuracy: 0.5\n",
            "On the test set:\n",
            "Accuracy: 0.5\n"
          ],
          "name": "stdout"
        }
      ]
    },
    {
      "cell_type": "markdown",
      "metadata": {
        "id": "8fKGAf5_PRQY"
      },
      "source": [
        "If you see \"inf\" as the cost after the iteration 0, this is because of numerical roundoff; a more numerically sophisticated implementation would fix this. But this isn't worth worrying about for our purposes. \n",
        "\n",
        "Anyway, it looks like you have broken symmetry, and this gives better results. than before. The model is no longer outputting all 0s. "
      ]
    },
    {
      "cell_type": "code",
      "metadata": {
        "id": "-5vSFyszPRQZ",
        "outputId": "c4524c53-3366-495b-8170-fd9dd6cf9948",
        "colab": {
          "base_uri": "https://localhost:8080/",
          "height": 52
        }
      },
      "source": [
        "print (predictions_train)\n",
        "print (predictions_test)"
      ],
      "execution_count": 13,
      "outputs": [
        {
          "output_type": "stream",
          "text": [
            "[[0 0 0 0 0 0 0 0]]\n",
            "[[0 0]]\n"
          ],
          "name": "stdout"
        }
      ]
    },
    {
      "cell_type": "code",
      "metadata": {
        "id": "wxrlF7wXPRQe",
        "outputId": "4fc50cf9-6421-425b-8e9a-13093e214988",
        "colab": {
          "base_uri": "https://localhost:8080/",
          "height": 329
        }
      },
      "source": [
        "plt.title(\"Model with large random initialization\")\n",
        "axes = plt.gca()\n",
        "axes.set_xlim([1,10])\n",
        "axes.set_ylim([0,10])\n",
        "plot_decision_boundary(lambda x: predict_dec(parameters, x.T), train_X, train_Y)"
      ],
      "execution_count": 14,
      "outputs": [
        {
          "output_type": "stream",
          "text": [
            "/content/init_utils.py:17: RuntimeWarning: overflow encountered in exp\n",
            "  s = 1/(1+np.exp(-x))\n"
          ],
          "name": "stderr"
        },
        {
          "output_type": "display_data",
          "data": {
            "image/png": "[encoded data removed]",
            "text/plain": [
              "<Figure size 432x288 with 1 Axes>"
            ]
          },
          "metadata": {
            "tags": [],
            "needs_background": "light"
          }
        }
      ]
    },
    {
      "cell_type": "markdown",
      "metadata": {
        "id": "EVshL54IPRQj"
      },
      "source": [
        "**Observations**:\n",
        "- The cost starts very high. This is because with large random-valued weights, the last activation (sigmoid) outputs results that are very close to 0 or 1 for some examples, and when it gets that example wrong it incurs a very high loss for that example. Indeed, when $\\log(a^{[3]}) = \\log(0)$, the loss goes to infinity.\n",
        "- Poor initialization can lead to vanishing/exploding gradients, which also slows down the optimization algorithm. \n",
        "- If you train this network longer you will see better results, but initializing with overly large random numbers slows down the optimization.\n",
        "\n",
        "<font color='blue'>\n",
        "**In summary**:\n",
        "- Initializing weights to very large random values does not work well. \n",
        "- Hopefully intializing with small random values does better. The important question is: how small should be these random values be? Lets find out in the next part! "
      ]
    },
    {
      "cell_type": "markdown",
      "metadata": {
        "id": "_0jMjOoaPRQk"
      },
      "source": [
        "## 4 - He initialization\n",
        "\n",
        "Finally, try \"He Initialization\"; this is named for the first author of He et al., 2015. (If you have heard of \"Xavier initialization\", this is similar except Xavier initialization uses a scaling factor for the weights $W^{[l]}$ of `sqrt(1./layers_dims[l-1])` where He initialization would use `sqrt(2./layers_dims[l-1])`.)\n",
        "\n",
        "**Exercise**: Implement the following function to initialize your parameters with He initialization.\n",
        "\n",
        "**Hint**: This function is similar to the previous `initialize_parameters_random(...)`. The only difference is that instead of multiplying `np.random.randn(..,..)` by 10, you will multiply it by $\\sqrt{\\frac{2}{\\text{dimension of the previous layer}}}$, which is what He initialization recommends for layers with a ReLU activation. "
      ]
    },
    {
      "cell_type": "code",
      "metadata": {
        "id": "rXYZORoNPRQl"
      },
      "source": [
        "# GRADED FUNCTION: initialize_parameters_he\n",
        "\n",
        "def initialize_parameters_he(layers_dims):\n",
        "    \"\"\"\n",
        "    Arguments:\n",
        "    layer_dims -- python array (list) containing the size of each layer.\n",
        "    \n",
        "    Returns:\n",
        "    parameters -- python dictionary containing your parameters \"W1\", \"b1\", ..., \"WL\", \"bL\":\n",
        "                    W1 -- weight matrix of shape (layers_dims[1], layers_dims[0])\n",
        "                    b1 -- bias vector of shape (layers_dims[1], 1)\n",
        "                    ...\n",
        "                    WL -- weight matrix of shape (layers_dims[L], layers_dims[L-1])\n",
        "                    bL -- bias vector of shape (layers_dims[L], 1)\n",
        "    \"\"\"\n",
        "    \n",
        "    np.random.seed(3)\n",
        "    parameters = {}\n",
        "    L = len(layers_dims) - 1 # integer representing the number of layers\n",
        "     \n",
        "    for l in range(1, L + 1):\n",
        "        ### START CODE HERE ### (≈ 2 lines of code)\n",
        "        parameters['W' + str(l)] = np.random.randn(layers_dims[l], layers_dims[l-1]) * (np.sqrt(2/layers_dims[l-1]))\n",
        "        parameters['b' + str(l)] = np.zeros((layers_dims[l], 1))\n",
        "        ### END CODE HERE ###\n",
        "        \n",
        "    return parameters"
      ],
      "execution_count": 15,
      "outputs": []
    },
    {
      "cell_type": "code",
      "metadata": {
        "id": "g6U1RLgmPRQo",
        "outputId": "7b9743eb-c29f-43c9-99c3-bd1703e84550",
        "colab": {
          "base_uri": "https://localhost:8080/",
          "height": 156
        }
      },
      "source": [
        "parameters = initialize_parameters_he([3, 3, 1])\n",
        "print(\"W1 = \" + str(parameters[\"W1\"]))\n",
        "print(\"b1 = \" + str(parameters[\"b1\"]))\n",
        "print(\"W2 = \" + str(parameters[\"W2\"]))\n",
        "print(\"b2 = \" + str(parameters[\"b2\"]))"
      ],
      "execution_count": 16,
      "outputs": [
        {
          "output_type": "stream",
          "text": [
            "W1 = [[ 1.46040903  0.3564088   0.07878985]\n",
            " [-1.52153542 -0.22648652 -0.28965949]\n",
            " [-0.06755814 -0.51194391 -0.03577739]]\n",
            "b1 = [[0.]\n",
            " [0.]\n",
            " [0.]]\n",
            "W2 = [[-0.38964689 -1.07276608  0.72229115]]\n",
            "b2 = [[0.]]\n"
          ],
          "name": "stdout"
        }
      ]
    },
    {
      "cell_type": "markdown",
      "metadata": {
        "id": "V0gXnKVdPRQv"
      },
      "source": [
        "**Expected Output**:\n",
        "\n",
        "<table> \n",
        "    <tr>\n",
        "    <td>\n",
        "    **W1**\n",
        "    </td>\n",
        "        <td>\n",
        "    [[ 1.78862847  0.43650985]\n",
        " [ 0.09649747 -1.8634927 ]\n",
        " [-0.2773882  -0.35475898]\n",
        " [-0.08274148 -0.62700068]]\n",
        "    </td>\n",
        "    </tr>\n",
        "    <tr>\n",
        "    <td>\n",
        "    **b1**\n",
        "    </td>\n",
        "        <td>\n",
        "    [[ 0.]\n",
        " [ 0.]\n",
        " [ 0.]\n",
        " [ 0.]]\n",
        "    </td>\n",
        "    </tr>\n",
        "    <tr>\n",
        "    <td>\n",
        "    **W2**\n",
        "    </td>\n",
        "        <td>\n",
        "    [[-0.03098412 -0.33744411 -0.92904268  0.62552248]]\n",
        "    </td>\n",
        "    </tr>\n",
        "    <tr>\n",
        "    <td>\n",
        "    **b2**\n",
        "    </td>\n",
        "        <td>\n",
        "    [[ 0.]]\n",
        "    </td>\n",
        "    </tr>\n",
        "\n",
        "</table> "
      ]
    },
    {
      "cell_type": "markdown",
      "metadata": {
        "id": "MG5u2TwePRQw"
      },
      "source": [
        "Run the following code to train your model on 15,000 iterations using He initialization."
      ]
    },
    {
      "cell_type": "code",
      "metadata": {
        "id": "kUSjj7X-PRQw",
        "outputId": "5d3b2d04-a301-491c-fb75-cfb7529093eb",
        "colab": {
          "base_uri": "https://localhost:8080/",
          "height": 624
        }
      },
      "source": [
        "parameters = model(train_X, train_Y, initialization = \"he\")\n",
        "print (\"On the train set:\")\n",
        "predictions_train = predict(train_X, train_Y, parameters)\n",
        "print (\"On the test set:\")\n",
        "predictions_test = predict(test_X, test_Y, parameters)"
      ],
      "execution_count": 17,
      "outputs": [
        {
          "output_type": "stream",
          "text": [
            "Cost after iteration 0: 5.196949395683853\n",
            "Cost after iteration 1000: 0.6931497444202779\n",
            "Cost after iteration 2000: 0.693147197727332\n",
            "Cost after iteration 3000: 0.6931471806748963\n",
            "Cost after iteration 4000: 0.693147180560715\n",
            "Cost after iteration 5000: 0.6931471805599505\n",
            "Cost after iteration 6000: 0.6931471805599454\n",
            "Cost after iteration 7000: 0.6931471805599453\n",
            "Cost after iteration 8000: 0.6931471805599453\n",
            "Cost after iteration 9000: 0.6931471805599453\n",
            "Cost after iteration 10000: 0.6931471805599453\n",
            "Cost after iteration 11000: 0.6931471805599453\n",
            "Cost after iteration 12000: 0.6931471805599453\n",
            "Cost after iteration 13000: 0.6931471805599453\n",
            "Cost after iteration 14000: 0.6931471805599453\n"
          ],
          "name": "stdout"
        },
        {
          "output_type": "display_data",
          "data": {
            "image/png": "[encoded data removed]",
            "text/plain": [
              "<Figure size 432x288 with 1 Axes>"
            ]
          },
          "metadata": {
            "tags": [],
            "needs_background": "light"
          }
        },
        {
          "output_type": "stream",
          "text": [
            "On the train set:\n",
            "Accuracy: 0.5\n",
            "On the test set:\n",
            "Accuracy: 0.5\n"
          ],
          "name": "stdout"
        }
      ]
    },
    {
      "cell_type": "code",
      "metadata": {
        "scrolled": false,
        "id": "5SHEd5E7PRQ0",
        "outputId": "2d0117ed-382b-4390-b7ac-0c3017a96417",
        "colab": {
          "base_uri": "https://localhost:8080/",
          "height": 294
        }
      },
      "source": [
        "plt.title(\"Model with He initialization\")\n",
        "axes = plt.gca()\n",
        "axes.set_xlim([1,10])\n",
        "axes.set_ylim([0,10])\n",
        "plot_decision_boundary(lambda x: predict_dec(parameters, x.T), train_X, train_Y)"
      ],
      "execution_count": 18,
      "outputs": [
        {
          "output_type": "display_data",
          "data": {
            "image/png": "[encoded data removed]",
            "text/plain": [
              "<Figure size 432x288 with 1 Axes>"
            ]
          },
          "metadata": {
            "tags": [],
            "needs_background": "light"
          }
        }
      ]
    },
    {
      "cell_type": "markdown",
      "metadata": {
        "id": "aa0eu8whPRQ3"
      },
      "source": [
        "**Observations**:\n",
        "- The model with He initialization separates the blue and the red dots very well in a small number of iterations.\n"
      ]
    },
    {
      "cell_type": "markdown",
      "metadata": {
        "collapsed": true,
        "id": "UNDEYQWyPRQ4"
      },
      "source": [
        "## 5 - Conclusions"
      ]
    },
    {
      "cell_type": "markdown",
      "metadata": {
        "collapsed": true,
        "id": "SxQYmxFNPRQ5"
      },
      "source": [
        "You have seen three different types of initializations. For the same number of iterations and same hyperparameters the comparison is:\n",
        "\n",
        "<table> \n",
        "    <tr>\n",
        "        <td>\n",
        "        **Model**\n",
        "        </td>\n",
        "        <td>\n",
        "        **Train accuracy**\n",
        "        </td>\n",
        "        <td>\n",
        "        **Problem/Comment**\n",
        "        </td>\n",
        "\n",
        "    </tr>\n",
        "        <td>\n",
        "        3-layer NN with zeros initialization\n",
        "        </td>\n",
        "        <td>\n",
        "        50%\n",
        "        </td>\n",
        "        <td>\n",
        "        fails to break symmetry\n",
        "        </td>\n",
        "    <tr>\n",
        "        <td>\n",
        "        3-layer NN with large random initialization\n",
        "        </td>\n",
        "        <td>\n",
        "        83%\n",
        "        </td>\n",
        "        <td>\n",
        "        too large weights \n",
        "        </td>\n",
        "    </tr>\n",
        "    <tr>\n",
        "        <td>\n",
        "        3-layer NN with He initialization\n",
        "        </td>\n",
        "        <td>\n",
        "        99%\n",
        "        </td>\n",
        "        <td>\n",
        "        recommended method\n",
        "        </td>\n",
        "    </tr>\n",
        "</table> "
      ]
    },
    {
      "cell_type": "markdown",
      "metadata": {
        "id": "zHYHioXwPRQ5"
      },
      "source": [
        "<font color='blue'>\n",
        "**What you should remember from this notebook**:\n",
        "- Different initializations lead to different results\n",
        "- Random initialization is used to break symmetry and make sure different hidden units can learn different things\n",
        "- Don't intialize to values that are too large\n",
        "- He initialization works well for networks with ReLU activations. "
      ]
    }
  ]
}